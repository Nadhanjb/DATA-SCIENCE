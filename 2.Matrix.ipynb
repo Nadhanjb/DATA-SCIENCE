{
 "cells": [
  {
   "cell_type": "code",
   "execution_count": 6,
   "metadata": {},
   "outputs": [
    {
     "name": "stdout",
     "output_type": "stream",
     "text": [
      "---ADDITION---\n",
      "[[6 6]\n",
      " [8 8]]\n",
      "\n",
      "---SUBSTRACTION---\n",
      "[[-2 -2]\n",
      " [-2 -2]]\n",
      "\n",
      "---ELEMENT WISE MULTIPLICATION---\n",
      "[[ 8  8]\n",
      " [15 15]]\n",
      "\n",
      "---MATRIX MULTIPLICATION---\n",
      "[[18 18]\n",
      " [27 27]]\n",
      "\n",
      "---TRANSPOSE---\n",
      "[[2 3]\n",
      " [2 3]]\n",
      "\n",
      " ----USING SVD----\n",
      "\n",
      "Original Matrix:\n",
      "[[ 2  4  6]\n",
      " [ 8 10 12]\n",
      " [14 16 18]]\n",
      "\n",
      "Reconstructed Matrix (with reduced dimensions):\n",
      "[[ 2.  4.  6.]\n",
      " [ 8. 10. 12.]\n",
      " [14. 16. 18.]]\n"
     ]
    }
   ],
   "source": [
    "import numpy as np\n",
    "# Create matrices\n",
    "A= np.array([[2, 2], [3, 3]])\n",
    "B = np.array([[4, 4], [5, 5]])\n",
    "#Addition \n",
    "D = A + B \n",
    "#Subtraction\n",
    "D = A - B\n",
    "#Multiplication(element-wise)\n",
    "E = A * B\n",
    "#Matrix multiplication\n",
    "F = np.dot(A,B)# or A @ B\n",
    "#Transpose\n",
    "A_transpose = A.T\n",
    "print(\"---ADDITION---\")\n",
    "print(C)\n",
    "print(\"\\n---SUBSTRACTION---\")\n",
    "print(D)\n",
    "print(\"\\n---ELEMENT WISE MULTIPLICATION---\")\n",
    "print(E)\n",
    "print(\"\\n---MATRIX MULTIPLICATION---\")\n",
    "print(F)\n",
    "print(\"\\n---TRANSPOSE---\")\n",
    "print(A_transpose)\n",
    "print(\"\\n ----USING SVD----\")\n",
    "# Create a sample matrix\n",
    "X = np.array([[2, 4, 6], [8, 10, 12], [14, 16, 18]])\n",
    "# Perform SVD\n",
    "U, S, VT = np.linalg.svd(X)\n",
    "# Choose the number of components to keep (e.g., 3)\n",
    "n_components = 3\n",
    "#Reconstruct the matrix with reduced dimensions\n",
    "X_reconstructed = np.dot(U[:, :n_components], np.dot(np.diag(S[:n_components]),\n",
    "VT[:n_components, :])) \n",
    "print(\"\\nOriginal Matrix:\")\n",
    "print(X)\n",
    "print(\"\\nReconstructed Matrix (with reduced dimensions):\") \n",
    "print(X_reconstructed)"
   ]
  },
  {
   "cell_type": "code",
   "execution_count": null,
   "metadata": {},
   "outputs": [],
   "source": []
  }
 ],
 "metadata": {
  "kernelspec": {
   "display_name": "Python 3",
   "language": "python",
   "name": "python3"
  },
  "language_info": {
   "codemirror_mode": {
    "name": "ipython",
    "version": 3
   },
   "file_extension": ".py",
   "mimetype": "text/x-python",
   "name": "python",
   "nbconvert_exporter": "python",
   "pygments_lexer": "ipython3",
   "version": "3.7.11"
  }
 },
 "nbformat": 4,
 "nbformat_minor": 4
}
